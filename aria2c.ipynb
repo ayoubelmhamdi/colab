{
  "cells": [
    {
      "cell_type": "markdown",
      "metadata": {
        "id": "view-in-github",
        "colab_type": "text"
      },
      "source": [
        "<a href=\"https://colab.research.google.com/github/ayoubelmhamdi/colab/blob/master/aria2c.ipynb\" target=\"_parent\"><img src=\"https://colab.research.google.com/assets/colab-badge.svg\" alt=\"Open In Colab\"/></a>"
      ]
    },
    {
      "cell_type": "code",
      "execution_count": null,
      "metadata": {
        "id": "7Ss99bt34TF5"
      },
      "outputs": [],
      "source": [
        "#@title **pip colab_ssh**\n",
        "! cs=\"colab_ssh\"; \\\n",
        "var=\"pip install $cs --upgrade\" ; \\\n",
        "eval $var >/dev/null 2>&1\n",
        "!echo \"done\""
      ]
    },
    {
      "cell_type": "code",
      "execution_count": null,
      "metadata": {
        "cellView": "form",
        "colab": {
          "base_uri": "https://localhost:8080/"
        },
        "id": "X7e3mjb3yH_k",
        "outputId": "f8b87f66-3fd1-4a82-e2cd-d80b8eeb2b46"
      },
      "outputs": [
        {
          "name": "stdout",
          "output_type": "stream",
          "text": [
            "ssh \n",
            "6.tcp.ngrok.io -p 11744\n",
            "\n",
            "done Ayoub\n"
          ]
        }
      ],
      "source": [
        "#@title **SSH Ngrok Work 1**\n",
        " \n",
        " \n",
        " \n",
        "#@markdown [OAuth](https://dashboard.ngrok.com/auth)\n",
        "ngrokToken = \"1oVXOlOBg8Zf5vO2XoSgHzpf6E6_6jrnh4yJzYm2RTYzApjV5\" #@param {type:'string'}\n",
        " \n",
        " \n",
        "def runNGROK():\n",
        "    from colab_ssh import launch_ssh\n",
        "    from IPython.display import clear_output\n",
        "    launch_ssh(ngrokToken, 't')\n",
        "    clear_output()\n",
        " \n",
        "    print(\"ssh \")\n",
        "    !curl -s http://localhost:4040/api/tunnels | python3 -c \\\n",
        "            \"import sys, json; print(json.load(sys.stdin)['tunnels'][0]['public_url'][6:].replace(':', ' -p '))\"\n",
        "    !echo -e \"\\ndone Ayoub\"\n",
        " \n",
        " \n",
        "if 1:\n",
        "   if ngrokToken == \"\":\n",
        "       print(\"No ngrokToken Found, Please enter it\")\n",
        "   else:\n",
        "       runNGROK()"
      ]
    },
    {
      "cell_type": "code",
      "execution_count": null,
      "metadata": {
        "cellView": "form",
        "colab": {
          "background_save": true
        },
        "id": "AgdO3DlA5kLw",
        "outputId": "e2988ee5-e36e-46db-9706-c58397bb3740"
      },
      "outputs": [
        {
          "name": "stdout",
          "output_type": "stream",
          "text": [
            "ssh root@4.tcp.ngrok.io -p 18373\n"
          ]
        }
      ],
      "source": [
        "#@title **SSH Ngrok Work**\n",
        " \n",
        "#@markdown [OAuth](https://dashboard.ngrok.com/auth)\n",
        "ngrokToken = \"1oVXOlOBg8Zf5vO2XoSgHzpf6E6_6jrnh4yJzYm2RTYzApjV5\" #@param {type:'string'}\n",
        " \n",
        "from colab_ssh import launch_ssh\n",
        "from IPython.display import clear_output\n",
        "launch_ssh(ngrokToken, 't')\n",
        "clear_output()\n",
        "\n",
        "!curl -s http://localhost:4040/api/tunnels | python3 -c \\\n",
        "        \"import sys, json; print(json.load(sys.stdin)['tunnels'][0]['public_url'][6:].replace(':', ' -p '))\" > /tmp/ssh.txt\n",
        "!echo \"ssh root@$(cat /tmp/ssh.txt)\"\n",
        "!echo -e \"\\ndone Ayoub\""
      ]
    },
    {
      "cell_type": "code",
      "execution_count": null,
      "metadata": {
        "cellView": "form",
        "colab": {
          "background_save": true
        },
        "id": "7TnxRfOO_ha5",
        "outputId": "99f130bb-5dbf-4d61-c8ee-a310f0c8e4d5"
      },
      "outputs": [
        {
          "name": "stdout",
          "output_type": "stream",
          "text": [
            "Exception caught\n",
            "Exception: [download_helper.cc:451] errorCode=1 Unrecognized URI or unsupported protocol: \n",
            "\n"
          ]
        }
      ],
      "source": [
        "#@title **Aria2c**\n",
        "from IPython.display import clear_output\n",
        "aria2c='magnet:?xt=urn:btih:BD23378781E36DB5E966826E173B3C1B5F755E08&dn=MathWorks+MATLAB+R2018a+%2864bit%29+%2B+Crack+-+%5BCrackzSoft%5D&tr=udp%3A%2F%2Ftracker.coppersurfer.tk%3A6969%2Fannounce&tr=udp%3A%2F%2Ftracker.coppersurfer.tk%3A80%2Fannounce&tr=udp%3A%2F%2Ftracker.coppersurfer.tk%3A1337%2Fannounce&tr=udp%3A%2F%2Ftracker.opentrackr.org%3A1337%2Fannounce&tr=udp%3A%2F%2F9.rarbg.com%3A2710%2Fannounce&tr=udp%3A%2F%2Feddie4.nl%3A6969%2Fannounce&tr=udp%3A%2F%2Ftracker.pirateparty.gr%3A1337%2Fannounce&tr=udp%3A%2F%2Ftracker.pirateparty.gr%3A80%2Fannounce&tr=udp%3A%2F%2Ftracker.pirateparty.gr%3A6969%2Fannounce&tr=udp%3A%2F%2Ftracker.leechers-paradise.org%3A6969%2Fannounce&tr=udp%3A%2F%2F9.rarbg.me%3A2780%2Fannounce&tr=udp%3A%2F%2Fp4p.arenabg.com%3A1337%2Fannounce&tr=UDP%3A%2F%2FTRACKER.ZER0DAY.TO%3A1337%2FANNOUNCE&tr=udp%3A%2F%2Ftracker.opentrackr.org%3A1337%2Fannounce&tr=http%3A%2F%2Ftracker.openbittorrent.com%3A80%2Fannounce&tr=udp%3A%2F%2Fopentracker.i2p.rocks%3A6969%2Fannounce&tr=udp%3A%2F%2Ftracker.internetwarriors.net%3A1337%2Fannounce&tr=udp%3A%2F%2Ftracker.leechers-paradise.org%3A6969%2Fannounce&tr=udp%3A%2F%2Fcoppersurfer.tk%3A6969%2Fannounce&tr=udp%3A%2F%2Ftracker.zer0day.to%3A1337%2Fannounce' #@param {type:\"string\"}\n",
        "!apt update              >/dev/null 2>&1\n",
        "!apt install -y aria2    >/dev/null 2>&1\n",
        "!mkdir $HOME/download -p\n",
        "!cd $HOME/download\n",
        "clear_output()\n",
        "!aria2c \"$aria2c\""
      ]
    },
    {
      "cell_type": "code",
      "execution_count": null,
      "metadata": {
        "cellView": "form",
        "colab": {
          "base_uri": "https://localhost:8080/"
        },
        "id": "ZBd41Fn8ijyB",
        "outputId": "268b18d9-ac48-4dde-ed6b-380186ac0fdb"
      },
      "outputs": [
        {
          "name": "stdout",
          "output_type": "stream",
          "text": [
            "/content\n",
            "wget http://bashupload.com/N_9Og/ngrok\n",
            "Enter new UNIX password: \n",
            "Retype new UNIX password: \n",
            "passwd: password updated successfully\n"
          ]
        }
      ],
      "source": [
        "!pwd\n",
        "!echo wget http://bashupload.com/N_9Og/ngrok\n",
        "!passwd root"
      ]
    }
  ],
  "metadata": {
    "colab": {
      "collapsed_sections": [],
      "provenance": [],
      "authorship_tag": "ABX9TyOZMivfoKaZJtme0QY6rE9b",
      "include_colab_link": true
    },
    "kernelspec": {
      "display_name": "Python 3",
      "name": "python3"
    }
  },
  "nbformat": 4,
  "nbformat_minor": 0
}